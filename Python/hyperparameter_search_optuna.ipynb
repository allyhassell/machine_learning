{
  "nbformat": 4,
  "nbformat_minor": 0,
  "metadata": {
    "colab": {
      "name": "Hyperparameter_search_Optuna.ipynb",
      "provenance": []
    },
    "kernelspec": {
      "name": "python3",
      "display_name": "Python 3"
    },
    "language_info": {
      "name": "python"
    }
  },
  "cells": [
    {
      "cell_type": "markdown",
      "source": [
        "The goal of this lab is to explore hyperparameter search/tuning with the package [Optuna](https://https://optuna.org/)\n",
        "\n",
        "As before, firstly, we will start with the familiar [MNIST](https://https://en.wikipedia.org/wiki/MNIST_database) dataset.\n",
        "\n",
        "However, first of all, let's just install the Optuna library:"
      ],
      "metadata": {
        "id": "dMrFS5SArKll"
      }
    },
    {
      "cell_type": "code",
      "source": [
        "pip install optuna"
      ],
      "metadata": {
        "colab": {
          "base_uri": "https://localhost:8080/"
        },
        "id": "RAa7rSI0bsXS",
        "outputId": "5eea2001-001a-4a9b-e841-697934e3690b"
      },
      "execution_count": 67,
      "outputs": [
        {
          "output_type": "stream",
          "name": "stdout",
          "text": [
            "Requirement already satisfied: optuna in /usr/local/lib/python3.7/dist-packages (2.10.0)\n",
            "Requirement already satisfied: alembic in /usr/local/lib/python3.7/dist-packages (from optuna) (1.7.7)\n",
            "Requirement already satisfied: colorlog in /usr/local/lib/python3.7/dist-packages (from optuna) (6.6.0)\n",
            "Requirement already satisfied: scipy!=1.4.0 in /usr/local/lib/python3.7/dist-packages (from optuna) (1.4.1)\n",
            "Requirement already satisfied: tqdm in /usr/local/lib/python3.7/dist-packages (from optuna) (4.63.0)\n",
            "Requirement already satisfied: cmaes>=0.8.2 in /usr/local/lib/python3.7/dist-packages (from optuna) (0.8.2)\n",
            "Requirement already satisfied: numpy in /usr/local/lib/python3.7/dist-packages (from optuna) (1.21.5)\n",
            "Requirement already satisfied: cliff in /usr/local/lib/python3.7/dist-packages (from optuna) (3.10.1)\n",
            "Requirement already satisfied: packaging>=20.0 in /usr/local/lib/python3.7/dist-packages (from optuna) (21.3)\n",
            "Requirement already satisfied: PyYAML in /usr/local/lib/python3.7/dist-packages (from optuna) (3.13)\n",
            "Requirement already satisfied: sqlalchemy>=1.1.0 in /usr/local/lib/python3.7/dist-packages (from optuna) (1.4.32)\n",
            "Requirement already satisfied: pyparsing!=3.0.5,>=2.0.2 in /usr/local/lib/python3.7/dist-packages (from packaging>=20.0->optuna) (3.0.7)\n",
            "Requirement already satisfied: greenlet!=0.4.17 in /usr/local/lib/python3.7/dist-packages (from sqlalchemy>=1.1.0->optuna) (1.1.2)\n",
            "Requirement already satisfied: importlib-metadata in /usr/local/lib/python3.7/dist-packages (from sqlalchemy>=1.1.0->optuna) (4.11.3)\n",
            "Requirement already satisfied: importlib-resources in /usr/local/lib/python3.7/dist-packages (from alembic->optuna) (5.4.0)\n",
            "Requirement already satisfied: Mako in /usr/local/lib/python3.7/dist-packages (from alembic->optuna) (1.2.0)\n",
            "Requirement already satisfied: stevedore>=2.0.1 in /usr/local/lib/python3.7/dist-packages (from cliff->optuna) (3.5.0)\n",
            "Requirement already satisfied: autopage>=0.4.0 in /usr/local/lib/python3.7/dist-packages (from cliff->optuna) (0.5.0)\n",
            "Requirement already satisfied: PrettyTable>=0.7.2 in /usr/local/lib/python3.7/dist-packages (from cliff->optuna) (3.2.0)\n",
            "Requirement already satisfied: pbr!=2.1.0,>=2.0.0 in /usr/local/lib/python3.7/dist-packages (from cliff->optuna) (5.8.1)\n",
            "Requirement already satisfied: cmd2>=1.0.0 in /usr/local/lib/python3.7/dist-packages (from cliff->optuna) (2.4.0)\n",
            "Requirement already satisfied: attrs>=16.3.0 in /usr/local/lib/python3.7/dist-packages (from cmd2>=1.0.0->cliff->optuna) (21.4.0)\n",
            "Requirement already satisfied: pyperclip>=1.6 in /usr/local/lib/python3.7/dist-packages (from cmd2>=1.0.0->cliff->optuna) (1.8.2)\n",
            "Requirement already satisfied: wcwidth>=0.1.7 in /usr/local/lib/python3.7/dist-packages (from cmd2>=1.0.0->cliff->optuna) (0.2.5)\n",
            "Requirement already satisfied: typing-extensions in /usr/local/lib/python3.7/dist-packages (from cmd2>=1.0.0->cliff->optuna) (3.10.0.2)\n",
            "Requirement already satisfied: zipp>=0.5 in /usr/local/lib/python3.7/dist-packages (from importlib-metadata->sqlalchemy>=1.1.0->optuna) (3.7.0)\n",
            "Requirement already satisfied: MarkupSafe>=0.9.2 in /usr/local/lib/python3.7/dist-packages (from Mako->alembic->optuna) (2.0.1)\n"
          ]
        }
      ]
    },
    {
      "cell_type": "markdown",
      "source": [
        "# Importing needed libraries"
      ],
      "metadata": {
        "id": "dHoerm5fr_K7"
      }
    },
    {
      "cell_type": "code",
      "metadata": {
        "id": "gQNaHkouNmcf"
      },
      "source": [
        "%matplotlib inline\n",
        "%config InlineBackend.figure_format = 'retina'\n",
        "import matplotlib.pyplot as plt\n",
        "import pandas as pd\n",
        "\n",
        "import numpy as np\n",
        "import seaborn as sns\n",
        "import warnings\n",
        "import optuna\n",
        "\n",
        "warnings.filterwarnings('ignore')\n",
        "pd.options.display.float_format = '{:,.2f}'.format\n",
        "pd.set_option('display.max_rows', 100)\n",
        "pd.set_option('display.max_columns', 200)\n",
        "\n",
        "from __future__ import print_function\n",
        "from datetime import datetime\n",
        "from matplotlib.colors import ListedColormap\n",
        "from sklearn.datasets import make_classification, make_moons, make_circles\n",
        "from sklearn.metrics import confusion_matrix, classification_report, mean_squared_error, mean_absolute_error, r2_score\n",
        "from sklearn.linear_model import LogisticRegression\n",
        "from sklearn.utils import shuffle\n",
        "from keras.models import Sequential\n",
        "from keras.layers import Dense, Dropout, BatchNormalization, Activation\n",
        "from keras.optimizers import *\n",
        "#from tf.keras.optimizers import *\n",
        "from keras.callbacks import EarlyStopping\n",
        "from keras.utils.np_utils import to_categorical\n",
        "from sklearn.preprocessing import StandardScaler, LabelEncoder, OneHotEncoder, MinMaxScaler\n",
        "from sklearn.model_selection import train_test_split, cross_val_score, StratifiedKFold, KFold\n",
        "import keras.backend as K\n",
        "from keras.wrappers.scikit_learn import KerasClassifier"
      ],
      "execution_count": 4,
      "outputs": []
    },
    {
      "cell_type": "markdown",
      "source": [
        "# Utility functions"
      ],
      "metadata": {
        "id": "75jtvazHsFFD"
      }
    },
    {
      "cell_type": "code",
      "source": [
        "def plot_loss_accuracy(history):\n",
        "    historydf = pd.DataFrame(history.history, index=history.epoch)\n",
        "    plt.figure(figsize=(8, 6))\n",
        "    historydf.plot(ylim=(0, max(1, historydf.values.max())))\n",
        "    loss = history.history['loss'][-1]\n",
        "    acc = history.history['accuracy'][-1]\n",
        "    plt.title('Loss: %.3f, Accuracy: %.3f' % (loss, acc))"
      ],
      "metadata": {
        "id": "eh3zDV3ebzyq"
      },
      "execution_count": 5,
      "outputs": []
    },
    {
      "cell_type": "markdown",
      "source": [
        "# Main section"
      ],
      "metadata": {
        "id": "3KT9VrCssL4T"
      }
    },
    {
      "cell_type": "markdown",
      "source": [
        "Let's import and prepare the MNIST dataset first as we did in the previous lab."
      ],
      "metadata": {
        "id": "Se0b6EA2sPtT"
      }
    },
    {
      "cell_type": "code",
      "source": [
        "from keras.datasets import mnist\n",
        "\n",
        "(x_train, y_train), (x_test, y_test) = mnist.load_data()"
      ],
      "metadata": {
        "colab": {
          "base_uri": "https://localhost:8080/"
        },
        "id": "1vqQ0vkwb6tJ",
        "outputId": "1875c9f1-449f-405d-cf2f-cde2164e3846"
      },
      "execution_count": 6,
      "outputs": [
        {
          "output_type": "stream",
          "name": "stdout",
          "text": [
            "Downloading data from https://storage.googleapis.com/tensorflow/tf-keras-datasets/mnist.npz\n",
            "11493376/11490434 [==============================] - 0s 0us/step\n",
            "11501568/11490434 [==============================] - 0s 0us/step\n"
          ]
        }
      ]
    },
    {
      "cell_type": "code",
      "source": [
        "print(\"Training data shape: \", x_train.shape) # (60000, 28, 28) -- 60000 images, each 28x28 pixels\n",
        "print(\"Test data shape\", x_test.shape) # (10000, 28, 28) -- 10000 images, each 28x28\n",
        "print(\"Training response shape:, \", y_train.shape)\n",
        "print(\"Testing response shape: \", y_test.shape)\n",
        "\n",
        "image_size = (x_train.shape[1], x_train.shape[2])"
      ],
      "metadata": {
        "colab": {
          "base_uri": "https://localhost:8080/"
        },
        "id": "E09mWZ1bb965",
        "outputId": "0146ee97-8710-48dc-ed34-d59fc49406ae"
      },
      "execution_count": 7,
      "outputs": [
        {
          "output_type": "stream",
          "name": "stdout",
          "text": [
            "Training data shape:  (60000, 28, 28)\n",
            "Test data shape (10000, 28, 28)\n",
            "Training response shape:,  (60000,)\n",
            "Testing response shape:  (10000,)\n"
          ]
        }
      ]
    },
    {
      "cell_type": "code",
      "source": [
        "# Flatten the images\n",
        "image_vector_size = image_size[0] * image_size[1] # 28 * 28\n",
        "x_train = x_train.reshape(x_train.shape[0], image_vector_size) /255.\n",
        "x_test = x_test.reshape(x_test.shape[0], image_vector_size) /255.\n",
        "print(x_train.shape)"
      ],
      "metadata": {
        "colab": {
          "base_uri": "https://localhost:8080/"
        },
        "id": "ZncpkvMLcAkK",
        "outputId": "572f4c2a-0cd8-4c2e-ec1b-2d810ce734c8"
      },
      "execution_count": 8,
      "outputs": [
        {
          "output_type": "stream",
          "name": "stdout",
          "text": [
            "(60000, 784)\n"
          ]
        }
      ]
    },
    {
      "cell_type": "code",
      "source": [
        "print(\"First 5 training labels: \", y_train[:5]) # [5, 0, 4, 1, 9]\n",
        "\n",
        "# Convert to \"one-hot\" vectors using the to_categorical function\n",
        "num_classes = 10\n",
        "y_train = to_categorical(y_train, num_classes)\n",
        "y_test = to_categorical(y_test, num_classes)\n",
        "print(\"First 5 training lables as one-hot encoded vectors:\\n\", y_train[:5])\n",
        "print(y_train.shape)"
      ],
      "metadata": {
        "colab": {
          "base_uri": "https://localhost:8080/"
        },
        "id": "qNqP2AFlcEEY",
        "outputId": "ad805d95-3284-447d-f70b-4104a29c07b4"
      },
      "execution_count": 9,
      "outputs": [
        {
          "output_type": "stream",
          "name": "stdout",
          "text": [
            "First 5 training labels:  [5 0 4 1 9]\n",
            "First 5 training lables as one-hot encoded vectors:\n",
            " [[0. 0. 0. 0. 0. 1. 0. 0. 0. 0.]\n",
            " [1. 0. 0. 0. 0. 0. 0. 0. 0. 0.]\n",
            " [0. 0. 0. 0. 1. 0. 0. 0. 0. 0.]\n",
            " [0. 1. 0. 0. 0. 0. 0. 0. 0. 0.]\n",
            " [0. 0. 0. 0. 0. 0. 0. 0. 0. 1.]]\n",
            "(60000, 10)\n"
          ]
        }
      ]
    },
    {
      "cell_type": "markdown",
      "source": [
        "\n",
        "Again, we will start by defining the model from the Sequential() function and adding some Dense (fully-connected) layers.\n",
        "Here we will be starting with a simple network with just a single hidden layer with 32 neurons.\n",
        "Make sure you set the size of the output layer to be the number of classes that we are trying to predict!\n",
        "We can have a look at our model using the model.summary() function"
      ],
      "metadata": {
        "id": "n0355wwLsWW7"
      }
    },
    {
      "cell_type": "code",
      "source": [
        "#image_size = 784 # 28*28\n",
        "#num_classes = 10 # ten unique digits\n",
        "def build_basic_model():\n",
        "  model = Sequential()\n",
        "\n",
        "  # The input layer requires the special input_shape parameter which should match\n",
        "  # the shape of our training data.\n",
        "  model.add(Dense(units=32, activation='sigmoid', input_shape=(image_vector_size,)))\n",
        "  model.add(Dense(units=num_classes, activation='softmax'))\n",
        "  return model\n",
        "model = build_basic_model()\n",
        "model.summary()"
      ],
      "metadata": {
        "colab": {
          "base_uri": "https://localhost:8080/"
        },
        "id": "gDve3endcI_Q",
        "outputId": "5b38ed36-5259-4cda-c1f8-7225f383a931"
      },
      "execution_count": 62,
      "outputs": [
        {
          "output_type": "stream",
          "name": "stdout",
          "text": [
            "Model: \"sequential_235\"\n",
            "_________________________________________________________________\n",
            " Layer (type)                Output Shape              Param #   \n",
            "=================================================================\n",
            " dense_470 (Dense)           (None, 32)                25120     \n",
            "                                                                 \n",
            " dense_471 (Dense)           (None, 10)                330       \n",
            "                                                                 \n",
            "=================================================================\n",
            "Total params: 25,450\n",
            "Trainable params: 25,450\n",
            "Non-trainable params: 0\n",
            "_________________________________________________________________\n"
          ]
        }
      ]
    },
    {
      "cell_type": "markdown",
      "source": [
        "Let's compile our model, train for for 5 epochs and examine the perfomance"
      ],
      "metadata": {
        "id": "z1QIAS4Gsk6Q"
      }
    },
    {
      "cell_type": "code",
      "source": [
        "model.compile(optimizer=\"sgd\", loss='categorical_crossentropy', metrics=['accuracy'])"
      ],
      "metadata": {
        "id": "laLCSaiscMKp"
      },
      "execution_count": 63,
      "outputs": []
    },
    {
      "cell_type": "code",
      "source": [
        "history = model.fit(x_train, y_train, batch_size=128, epochs=5, verbose=True, validation_split=.1)\n",
        "loss, accuracy  = model.evaluate(x_test, y_test, verbose=False)"
      ],
      "metadata": {
        "colab": {
          "base_uri": "https://localhost:8080/"
        },
        "id": "Uu2PfBVPcOmg",
        "outputId": "31b063fb-52d2-40fa-a5e0-5541b4783522"
      },
      "execution_count": 64,
      "outputs": [
        {
          "output_type": "stream",
          "name": "stdout",
          "text": [
            "Epoch 1/5\n",
            "422/422 [==============================] - 2s 3ms/step - loss: 2.1547 - accuracy: 0.3891 - val_loss: 1.9444 - val_accuracy: 0.6567\n",
            "Epoch 2/5\n",
            "422/422 [==============================] - 1s 3ms/step - loss: 1.7962 - accuracy: 0.6658 - val_loss: 1.6156 - val_accuracy: 0.7257\n",
            "Epoch 3/5\n",
            "422/422 [==============================] - 1s 3ms/step - loss: 1.5083 - accuracy: 0.7174 - val_loss: 1.3449 - val_accuracy: 0.7798\n",
            "Epoch 4/5\n",
            "422/422 [==============================] - 1s 3ms/step - loss: 1.2813 - accuracy: 0.7592 - val_loss: 1.1387 - val_accuracy: 0.8152\n",
            "Epoch 5/5\n",
            "422/422 [==============================] - 1s 3ms/step - loss: 1.1106 - accuracy: 0.7875 - val_loss: 0.9852 - val_accuracy: 0.8360\n"
          ]
        }
      ]
    },
    {
      "cell_type": "code",
      "source": [
        "plot_loss_accuracy(history)\n",
        "print(f'Test loss: {loss:.3}')\n",
        "print(f'Test accuracy: {accuracy:.3}')"
      ],
      "metadata": {
        "colab": {
          "base_uri": "https://localhost:8080/",
          "height": 332
        },
        "id": "FaOIfBfvcVN4",
        "outputId": "90393de7-2fea-4fd1-ede5-6d6d565ce1bb"
      },
      "execution_count": 65,
      "outputs": [
        {
          "output_type": "stream",
          "name": "stdout",
          "text": [
            "Test loss: 1.02\n",
            "Test accuracy: 0.814\n"
          ]
        },
        {
          "output_type": "display_data",
          "data": {
            "text/plain": [
              "<Figure size 576x432 with 0 Axes>"
            ]
          },
          "metadata": {}
        },
        {
          "output_type": "display_data",
          "data": {
            "text/plain": [
              "<Figure size 432x288 with 1 Axes>"
            ],
            "image/png": "[encoded data removed]"
          },
          "metadata": {
            "image/png": {
              "width": 378,
              "height": 263
            },
            "needs_background": "light"
          }
        }
      ]
    },
    {
      "cell_type": "markdown",
      "source": [
        "As we can see above, the perfomance of our model is not too bad. \n",
        "\n",
        "We did try default learning rate, so, for our SGD optimizer. Can you tell what the value of the defaul learning rate we used? Hint: See documentaion for Keras SGD optimizer.\n",
        "\n",
        "Learning rate is a **hyperparameter**, because we set it before we started the training process. What if we can tune the learning rate and choose the one which gives us better result on the validation set instead?\n",
        "\n",
        "We could try different values by hand (for example, 0.1, 0.2, 0.3) but it might take some time. Why not to use better search strategies? Let's use a package called **Optuna**.\n",
        "\n",
        "Below, we will set up so called **Trial**, where we define our model, hyperparameters that we would like to examine - learning rate and the objective function - accuracy on the validation set after 5 epochs.  \n",
        "We will sample various learning rates between 1e-5 and 1e-1 (uniformly distributed on the logarithmic scale).  \n",
        "\n"
      ],
      "metadata": {
        "id": "WUHGmbtnsxih"
      }
    },
    {
      "cell_type": "code",
      "source": [
        "def objective(trial):\n",
        "    model = build_basic_model()\n",
        "    # We compile our model with a sampled learning rate.\n",
        "    lr = trial.suggest_float('lr', 1e-5, 1e-1, log=True) #sample value of learning rate between 1e-5 and 1e-1\n",
        "    model.compile(tf.keras.optimizers.SGD(lr=lr), loss='categorical_crossentropy', metrics=['accuracy'])\n",
        "    history = model.fit(x_train, y_train, batch_size=128, epochs=5, verbose=True, validation_split=.1)\n",
        "    acc = history.history['val_accuracy'][-1]\n",
        "    return acc #we will use validation accuracy to compare perfomance of models trained with sample learning rates"
      ],
      "metadata": {
        "id": "8rzELZF3cYDX"
      },
      "execution_count": 31,
      "outputs": []
    },
    {
      "cell_type": "markdown",
      "source": [
        "Next we will sample 10 different learning rates and evaluate perfomance. It might take a bit of time, that's why we only use 5 epochs. "
      ],
      "metadata": {
        "id": "9AVFEyMkw7U9"
      }
    },
    {
      "cell_type": "code",
      "source": [
        "study = optuna.create_study(direction='maximize') # we would like to maximise the validation accuracy\n",
        "study.optimize(objective, n_trials=10) #use objective function defined above and sample 10 different learning rates"
      ],
      "metadata": {
        "colab": {
          "base_uri": "https://localhost:8080/"
        },
        "id": "HbhsRPR0dZB8",
        "outputId": "33941ce9-7478-4ddb-980e-668e71e87072"
      },
      "execution_count": 32,
      "outputs": [
        {
          "output_type": "stream",
          "name": "stderr",
          "text": [
            "\u001b[32m[I 2022-03-29 02:46:43,361]\u001b[0m A new study created in memory with name: no-name-554913b4-8809-4b48-b820-c9cd84501b14\u001b[0m\n"
          ]
        },
        {
          "output_type": "stream",
          "name": "stdout",
          "text": [
            "Epoch 1/5\n",
            "422/422 [==============================] - 2s 4ms/step - loss: 2.3368 - accuracy: 0.1581 - val_loss: 2.3341 - val_accuracy: 0.1685\n",
            "Epoch 2/5\n",
            "422/422 [==============================] - 1s 3ms/step - loss: 2.3355 - accuracy: 0.1585 - val_loss: 2.3329 - val_accuracy: 0.1690\n",
            "Epoch 3/5\n",
            "422/422 [==============================] - 1s 3ms/step - loss: 2.3343 - accuracy: 0.1587 - val_loss: 2.3316 - val_accuracy: 0.1690\n",
            "Epoch 4/5\n",
            "422/422 [==============================] - 1s 3ms/step - loss: 2.3331 - accuracy: 0.1590 - val_loss: 2.3304 - val_accuracy: 0.1698\n",
            "Epoch 5/5\n",
            "422/422 [==============================] - 1s 3ms/step - loss: 2.3319 - accuracy: 0.1593 - val_loss: 2.3292 - val_accuracy: 0.1698\n"
          ]
        },
        {
          "output_type": "stream",
          "name": "stderr",
          "text": [
            "\u001b[32m[I 2022-03-29 02:46:50,728]\u001b[0m Trial 0 finished with value: 0.16983333230018616 and parameters: {'lr': 1.3268937411013897e-05}. Best is trial 0 with value: 0.16983333230018616.\u001b[0m\n"
          ]
        },
        {
          "output_type": "stream",
          "name": "stdout",
          "text": [
            "Epoch 1/5\n",
            "422/422 [==============================] - 2s 4ms/step - loss: 2.2290 - accuracy: 0.2596 - val_loss: 2.1022 - val_accuracy: 0.4833\n",
            "Epoch 2/5\n",
            "422/422 [==============================] - 1s 3ms/step - loss: 2.0276 - accuracy: 0.5498 - val_loss: 1.9253 - val_accuracy: 0.6223\n",
            "Epoch 3/5\n",
            "422/422 [==============================] - 1s 3ms/step - loss: 1.8652 - accuracy: 0.6229 - val_loss: 1.7618 - val_accuracy: 0.6808\n",
            "Epoch 4/5\n",
            "422/422 [==============================] - 1s 4ms/step - loss: 1.7143 - accuracy: 0.6671 - val_loss: 1.6102 - val_accuracy: 0.7187\n",
            "Epoch 5/5\n",
            "422/422 [==============================] - 1s 3ms/step - loss: 1.5755 - accuracy: 0.6971 - val_loss: 1.4715 - val_accuracy: 0.7455\n"
          ]
        },
        {
          "output_type": "stream",
          "name": "stderr",
          "text": [
            "\u001b[32m[I 2022-03-29 02:47:01,424]\u001b[0m Trial 1 finished with value: 0.7455000281333923 and parameters: {'lr': 0.004996012337055678}. Best is trial 1 with value: 0.7455000281333923.\u001b[0m\n"
          ]
        },
        {
          "output_type": "stream",
          "name": "stdout",
          "text": [
            "Epoch 1/5\n",
            "422/422 [==============================] - 2s 4ms/step - loss: 1.1998 - accuracy: 0.7529 - val_loss: 0.6138 - val_accuracy: 0.8840\n",
            "Epoch 2/5\n",
            "422/422 [==============================] - 2s 4ms/step - loss: 0.5552 - accuracy: 0.8691 - val_loss: 0.4007 - val_accuracy: 0.9088\n",
            "Epoch 3/5\n",
            "422/422 [==============================] - 2s 4ms/step - loss: 0.4283 - accuracy: 0.8895 - val_loss: 0.3299 - val_accuracy: 0.9170\n",
            "Epoch 4/5\n",
            "422/422 [==============================] - 1s 3ms/step - loss: 0.3731 - accuracy: 0.9003 - val_loss: 0.2947 - val_accuracy: 0.9225\n",
            "Epoch 5/5\n",
            "422/422 [==============================] - 1s 3ms/step - loss: 0.3406 - accuracy: 0.9069 - val_loss: 0.2708 - val_accuracy: 0.9280\n"
          ]
        },
        {
          "output_type": "stream",
          "name": "stderr",
          "text": [
            "\u001b[32m[I 2022-03-29 02:47:09,459]\u001b[0m Trial 2 finished with value: 0.9279999732971191 and parameters: {'lr': 0.09852514553006246}. Best is trial 2 with value: 0.9279999732971191.\u001b[0m\n"
          ]
        },
        {
          "output_type": "stream",
          "name": "stdout",
          "text": [
            "Epoch 1/5\n",
            "422/422 [==============================] - 2s 4ms/step - loss: 2.4543 - accuracy: 0.1144 - val_loss: 2.4673 - val_accuracy: 0.1087\n",
            "Epoch 2/5\n",
            "422/422 [==============================] - 2s 4ms/step - loss: 2.4519 - accuracy: 0.1149 - val_loss: 2.4648 - val_accuracy: 0.1088\n",
            "Epoch 3/5\n",
            "422/422 [==============================] - 2s 4ms/step - loss: 2.4495 - accuracy: 0.1151 - val_loss: 2.4623 - val_accuracy: 0.1093\n",
            "Epoch 4/5\n",
            "422/422 [==============================] - 1s 3ms/step - loss: 2.4471 - accuracy: 0.1153 - val_loss: 2.4598 - val_accuracy: 0.1095\n",
            "Epoch 5/5\n",
            "422/422 [==============================] - 1s 3ms/step - loss: 2.4448 - accuracy: 0.1154 - val_loss: 2.4574 - val_accuracy: 0.1100\n"
          ]
        },
        {
          "output_type": "stream",
          "name": "stderr",
          "text": [
            "\u001b[32m[I 2022-03-29 02:47:17,869]\u001b[0m Trial 3 finished with value: 0.10999999940395355 and parameters: {'lr': 1.4784295585109726e-05}. Best is trial 2 with value: 0.9279999732971191.\u001b[0m\n"
          ]
        },
        {
          "output_type": "stream",
          "name": "stdout",
          "text": [
            "Epoch 1/5\n",
            "422/422 [==============================] - 2s 4ms/step - loss: 2.3849 - accuracy: 0.1042 - val_loss: 2.3891 - val_accuracy: 0.1095\n",
            "Epoch 2/5\n",
            "422/422 [==============================] - 1s 3ms/step - loss: 2.3835 - accuracy: 0.1048 - val_loss: 2.3877 - val_accuracy: 0.1102\n",
            "Epoch 3/5\n",
            "422/422 [==============================] - 1s 3ms/step - loss: 2.3822 - accuracy: 0.1055 - val_loss: 2.3863 - val_accuracy: 0.1105\n",
            "Epoch 4/5\n",
            "422/422 [==============================] - 1s 3ms/step - loss: 2.3808 - accuracy: 0.1060 - val_loss: 2.3849 - val_accuracy: 0.1118\n",
            "Epoch 5/5\n",
            "422/422 [==============================] - 1s 3ms/step - loss: 2.3795 - accuracy: 0.1065 - val_loss: 2.3836 - val_accuracy: 0.1130\n"
          ]
        },
        {
          "output_type": "stream",
          "name": "stderr",
          "text": [
            "\u001b[32m[I 2022-03-29 02:47:28,571]\u001b[0m Trial 4 finished with value: 0.11299999803304672 and parameters: {'lr': 1.3927324263150126e-05}. Best is trial 2 with value: 0.9279999732971191.\u001b[0m\n"
          ]
        },
        {
          "output_type": "stream",
          "name": "stdout",
          "text": [
            "Epoch 1/5\n",
            "422/422 [==============================] - 2s 5ms/step - loss: 2.1007 - accuracy: 0.4521 - val_loss: 1.8956 - val_accuracy: 0.6503\n",
            "Epoch 2/5\n",
            "422/422 [==============================] - 2s 4ms/step - loss: 1.7462 - accuracy: 0.6729 - val_loss: 1.5610 - val_accuracy: 0.7475\n",
            "Epoch 3/5\n",
            "422/422 [==============================] - 1s 3ms/step - loss: 1.4535 - accuracy: 0.7377 - val_loss: 1.2885 - val_accuracy: 0.7990\n",
            "Epoch 4/5\n",
            "422/422 [==============================] - 1s 3ms/step - loss: 1.2253 - accuracy: 0.7752 - val_loss: 1.0839 - val_accuracy: 0.8342\n",
            "Epoch 5/5\n",
            "422/422 [==============================] - 1s 3ms/step - loss: 1.0571 - accuracy: 0.8017 - val_loss: 0.9344 - val_accuracy: 0.8487\n"
          ]
        },
        {
          "output_type": "stream",
          "name": "stderr",
          "text": [
            "\u001b[32m[I 2022-03-29 02:47:36,942]\u001b[0m Trial 5 finished with value: 0.8486666679382324 and parameters: {'lr': 0.010689178513877401}. Best is trial 2 with value: 0.9279999732971191.\u001b[0m\n"
          ]
        },
        {
          "output_type": "stream",
          "name": "stdout",
          "text": [
            "Epoch 1/5\n",
            "422/422 [==============================] - 2s 4ms/step - loss: 2.4412 - accuracy: 0.1046 - val_loss: 2.4307 - val_accuracy: 0.1032\n",
            "Epoch 2/5\n",
            "422/422 [==============================] - 1s 3ms/step - loss: 2.4140 - accuracy: 0.1102 - val_loss: 2.4045 - val_accuracy: 0.1102\n",
            "Epoch 3/5\n",
            "422/422 [==============================] - 2s 4ms/step - loss: 2.3902 - accuracy: 0.1178 - val_loss: 2.3814 - val_accuracy: 0.1185\n",
            "Epoch 4/5\n",
            "422/422 [==============================] - 1s 3ms/step - loss: 2.3691 - accuracy: 0.1273 - val_loss: 2.3609 - val_accuracy: 0.1267\n",
            "Epoch 5/5\n",
            "422/422 [==============================] - 1s 3ms/step - loss: 2.3502 - accuracy: 0.1404 - val_loss: 2.3424 - val_accuracy: 0.1433\n"
          ]
        },
        {
          "output_type": "stream",
          "name": "stderr",
          "text": [
            "\u001b[32m[I 2022-03-29 02:47:44,598]\u001b[0m Trial 6 finished with value: 0.1433333307504654 and parameters: {'lr': 0.00014225828772657765}. Best is trial 2 with value: 0.9279999732971191.\u001b[0m\n"
          ]
        },
        {
          "output_type": "stream",
          "name": "stdout",
          "text": [
            "Epoch 1/5\n",
            "422/422 [==============================] - 2s 4ms/step - loss: 1.6919 - accuracy: 0.6469 - val_loss: 1.1327 - val_accuracy: 0.8323\n",
            "Epoch 2/5\n",
            "422/422 [==============================] - 1s 3ms/step - loss: 0.9287 - accuracy: 0.8227 - val_loss: 0.6868 - val_accuracy: 0.8777\n",
            "Epoch 3/5\n",
            "422/422 [==============================] - 1s 3ms/step - loss: 0.6600 - accuracy: 0.8559 - val_loss: 0.5187 - val_accuracy: 0.8955\n",
            "Epoch 4/5\n",
            "422/422 [==============================] - 1s 3ms/step - loss: 0.5408 - accuracy: 0.8730 - val_loss: 0.4343 - val_accuracy: 0.9052\n",
            "Epoch 5/5\n",
            "422/422 [==============================] - 1s 3ms/step - loss: 0.4738 - accuracy: 0.8831 - val_loss: 0.3842 - val_accuracy: 0.9108\n"
          ]
        },
        {
          "output_type": "stream",
          "name": "stderr",
          "text": [
            "\u001b[32m[I 2022-03-29 02:47:51,979]\u001b[0m Trial 7 finished with value: 0.9108333587646484 and parameters: {'lr': 0.043991002888844624}. Best is trial 2 with value: 0.9279999732971191.\u001b[0m\n"
          ]
        },
        {
          "output_type": "stream",
          "name": "stdout",
          "text": [
            "Epoch 1/5\n",
            "422/422 [==============================] - 2s 3ms/step - loss: 2.5800 - accuracy: 0.0990 - val_loss: 2.4134 - val_accuracy: 0.0952\n",
            "Epoch 2/5\n",
            "422/422 [==============================] - 2s 4ms/step - loss: 2.3426 - accuracy: 0.1019 - val_loss: 2.2953 - val_accuracy: 0.1052\n",
            "Epoch 3/5\n",
            "422/422 [==============================] - 2s 4ms/step - loss: 2.2632 - accuracy: 0.1284 - val_loss: 2.2353 - val_accuracy: 0.1425\n",
            "Epoch 4/5\n",
            "422/422 [==============================] - 1s 4ms/step - loss: 2.2160 - accuracy: 0.1608 - val_loss: 2.1934 - val_accuracy: 0.1802\n",
            "Epoch 5/5\n",
            "422/422 [==============================] - 1s 3ms/step - loss: 2.1805 - accuracy: 0.2196 - val_loss: 2.1592 - val_accuracy: 0.2573\n"
          ]
        },
        {
          "output_type": "stream",
          "name": "stderr",
          "text": [
            "\u001b[32m[I 2022-03-29 02:48:02,648]\u001b[0m Trial 8 finished with value: 0.25733333826065063 and parameters: {'lr': 0.0007302174363653532}. Best is trial 2 with value: 0.9279999732971191.\u001b[0m\n"
          ]
        },
        {
          "output_type": "stream",
          "name": "stdout",
          "text": [
            "Epoch 1/5\n",
            "422/422 [==============================] - 2s 3ms/step - loss: 2.2820 - accuracy: 0.1305 - val_loss: 2.2018 - val_accuracy: 0.2273\n",
            "Epoch 2/5\n",
            "422/422 [==============================] - 1s 3ms/step - loss: 2.1535 - accuracy: 0.3462 - val_loss: 2.1025 - val_accuracy: 0.4800\n",
            "Epoch 3/5\n",
            "422/422 [==============================] - 2s 4ms/step - loss: 2.0669 - accuracy: 0.5341 - val_loss: 2.0157 - val_accuracy: 0.6225\n",
            "Epoch 4/5\n",
            "422/422 [==============================] - 2s 4ms/step - loss: 1.9859 - accuracy: 0.6106 - val_loss: 1.9322 - val_accuracy: 0.6687\n",
            "Epoch 5/5\n",
            "422/422 [==============================] - 1s 3ms/step - loss: 1.9071 - accuracy: 0.6436 - val_loss: 1.8508 - val_accuracy: 0.6947\n"
          ]
        },
        {
          "output_type": "stream",
          "name": "stderr",
          "text": [
            "\u001b[32m[I 2022-03-29 02:48:13,396]\u001b[0m Trial 9 finished with value: 0.6946666836738586 and parameters: {'lr': 0.002403823551223423}. Best is trial 2 with value: 0.9279999732971191.\u001b[0m\n"
          ]
        }
      ]
    },
    {
      "cell_type": "code",
      "source": [
        "from optuna.visualization import plot_contour\n",
        "from optuna.visualization import plot_edf\n",
        "from optuna.visualization import plot_intermediate_values\n",
        "from optuna.visualization import plot_optimization_history\n",
        "from optuna.visualization import plot_parallel_coordinate\n",
        "from optuna.visualization import plot_param_importances\n",
        "from optuna.visualization import plot_slice"
      ],
      "metadata": {
        "id": "PzEynE3rdr9o"
      },
      "execution_count": 18,
      "outputs": []
    },
    {
      "cell_type": "markdown",
      "source": [
        "Let's see how our validation accuracy (Y axis) changed during 10 trials"
      ],
      "metadata": {
        "id": "_7t3EPklyipq"
      }
    },
    {
      "cell_type": "code",
      "source": [
        "plot_optimization_history(study)"
      ],
      "metadata": {
        "colab": {
          "base_uri": "https://localhost:8080/",
          "height": 542
        },
        "id": "QOpqKCUpdlOS",
        "outputId": "380ed7f2-32b2-4623-fc8e-62252f9d9a3f"
      },
      "execution_count": 33,
      "outputs": [
        {
          "output_type": "display_data",
          "data": {
            "text/html": [
              "<html>\n",
              "<head><meta charset=\"utf-8\" /></head>\n",
              "<body>\n",
              "    <div>            <script src=\"https://cdnjs.cloudflare.com/ajax/libs/mathjax/2.7.5/MathJax.js?config=TeX-AMS-MML_SVG\"></script><script type=\"text/javascript\">if (window.MathJax) {MathJax.Hub.Config({SVG: {font: \"STIX-Web\"}});}</script>                <script type=\"text/javascript\">window.PlotlyConfig = {MathJaxConfig: 'local'};</script>\n",
              "        <script src=\"https://cdn.plot.ly/plotly-2.8.3.min.js\"></script>                <div id=\"d1ae8b29-cb9d-45e1-b70c-4ae50089ebdf\" class=\"plotly-graph-div\" style=\"height:525px; width:100%;\"></div>            <script type=\"text/javascript\">                                    window.PLOTLYENV=window.PLOTLYENV || {};                                    if (document.getElementById(\"d1ae8b29-cb9d-45e1-b70c-4ae50089ebdf\")) {                    Plotly.newPlot(                        \"d1ae8b29-cb9d-45e1-b70c-4ae50089ebdf\",                        [{\"mode\":\"markers\",\"name\":\"Objective Value\",\"x\":[0,1,2,3,4,5,6,7,8,9],\"y\":[0.16983333230018616,0.7455000281333923,0.9279999732971191,0.10999999940395355,0.11299999803304672,0.8486666679382324,0.1433333307504654,0.9108333587646484,0.25733333826065063,0.6946666836738586],\"type\":\"scatter\"},{\"name\":\"Best Value\",\"x\":[0,1,2,3,4,5,6,7,8,9],\"y\":[0.16983333230018616,0.7455000281333923,0.9279999732971191,0.9279999732971191,0.9279999732971191,0.9279999732971191,0.9279999732971191,0.9279999732971191,0.9279999732971191,0.9279999732971191],\"type\":\"scatter\"}],                        {\"title\":{\"text\":\"Optimization History Plot\"},\"xaxis\":{\"title\":{\"text\":\"#Trials\"}},\"yaxis\":{\"title\":{\"text\":\"Objective Value\"}},\"template\":{\"data\":{\"bar\":[{\"error_x\":{\"color\":\"#2a3f5f\"},\"error_y\":{\"color\":\"#2a3f5f\"},\"marker\":{\"line\":{\"color\":\"#E5ECF6\",\"width\":0.5},\"pattern\":{\"fillmode\":\"overlay\",\"size\":10,\"solidity\":0.2}},\"type\":\"bar\"}],\"barpolar\":[{\"marker\":{\"line\":{\"color\":\"#E5ECF6\",\"width\":0.5},\"pattern\":{\"fillmode\":\"overlay\",\"size\":10,\"solidity\":0.2}},\"type\":\"barpolar\"}],\"carpet\":[{\"aaxis\":{\"endlinecolor\":\"#2a3f5f\",\"gridcolor\":\"white\",\"linecolor\":\"white\",\"minorgridcolor\":\"white\",\"startlinecolor\":\"#2a3f5f\"},\"baxis\":{\"endlinecolor\":\"#2a3f5f\",\"gridcolor\":\"white\",\"linecolor\":\"white\",\"minorgridcolor\":\"white\",\"startlinecolor\":\"#2a3f5f\"},\"type\":\"carpet\"}],\"choropleth\":[{\"colorbar\":{\"outlinewidth\":0,\"ticks\":\"\"},\"type\":\"choropleth\"}],\"contour\":[{\"colorbar\":{\"outlinewidth\":0,\"ticks\":\"\"},\"colorscale\":[[0.0,\"#0d0887\"],[0.1111111111111111,\"#46039f\"],[0.2222222222222222,\"#7201a8\"],[0.3333333333333333,\"#9c179e\"],[0.4444444444444444,\"#bd3786\"],[0.5555555555555556,\"#d8576b\"],[0.6666666666666666,\"#ed7953\"],[0.7777777777777778,\"#fb9f3a\"],[0.8888888888888888,\"#fdca26\"],[1.0,\"#f0f921\"]],\"type\":\"contour\"}],\"contourcarpet\":[{\"colorbar\":{\"outlinewidth\":0,\"ticks\":\"\"},\"type\":\"contourcarpet\"}],\"heatmap\":[{\"colorbar\":{\"outlinewidth\":0,\"ticks\":\"\"},\"colorscale\":[[0.0,\"#0d0887\"],[0.1111111111111111,\"#46039f\"],[0.2222222222222222,\"#7201a8\"],[0.3333333333333333,\"#9c179e\"],[0.4444444444444444,\"#bd3786\"],[0.5555555555555556,\"#d8576b\"],[0.6666666666666666,\"#ed7953\"],[0.7777777777777778,\"#fb9f3a\"],[0.8888888888888888,\"#fdca26\"],[1.0,\"#f0f921\"]],\"type\":\"heatmap\"}],\"heatmapgl\":[{\"colorbar\":{\"outlinewidth\":0,\"ticks\":\"\"},\"colorscale\":[[0.0,\"#0d0887\"],[0.1111111111111111,\"#46039f\"],[0.2222222222222222,\"#7201a8\"],[0.3333333333333333,\"#9c179e\"],[0.4444444444444444,\"#bd3786\"],[0.5555555555555556,\"#d8576b\"],[0.6666666666666666,\"#ed7953\"],[0.7777777777777778,\"#fb9f3a\"],[0.8888888888888888,\"#fdca26\"],[1.0,\"#f0f921\"]],\"type\":\"heatmapgl\"}],\"histogram\":[{\"marker\":{\"pattern\":{\"fillmode\":\"overlay\",\"size\":10,\"solidity\":0.2}},\"type\":\"histogram\"}],\"histogram2d\":[{\"colorbar\":{\"outlinewidth\":0,\"ticks\":\"\"},\"colorscale\":[[0.0,\"#0d0887\"],[0.1111111111111111,\"#46039f\"],[0.2222222222222222,\"#7201a8\"],[0.3333333333333333,\"#9c179e\"],[0.4444444444444444,\"#bd3786\"],[0.5555555555555556,\"#d8576b\"],[0.6666666666666666,\"#ed7953\"],[0.7777777777777778,\"#fb9f3a\"],[0.8888888888888888,\"#fdca26\"],[1.0,\"#f0f921\"]],\"type\":\"histogram2d\"}],\"histogram2dcontour\":[{\"colorbar\":{\"outlinewidth\":0,\"ticks\":\"\"},\"colorscale\":[[0.0,\"#0d0887\"],[0.1111111111111111,\"#46039f\"],[0.2222222222222222,\"#7201a8\"],[0.3333333333333333,\"#9c179e\"],[0.4444444444444444,\"#bd3786\"],[0.5555555555555556,\"#d8576b\"],[0.6666666666666666,\"#ed7953\"],[0.7777777777777778,\"#fb9f3a\"],[0.8888888888888888,\"#fdca26\"],[1.0,\"#f0f921\"]],\"type\":\"histogram2dcontour\"}],\"mesh3d\":[{\"colorbar\":{\"outlinewidth\":0,\"ticks\":\"\"},\"type\":\"mesh3d\"}],\"parcoords\":[{\"line\":{\"colorbar\":{\"outlinewidth\":0,\"ticks\":\"\"}},\"type\":\"parcoords\"}],\"pie\":[{\"automargin\":true,\"type\":\"pie\"}],\"scatter\":[{\"marker\":{\"colorbar\":{\"outlinewidth\":0,\"ticks\":\"\"}},\"type\":\"scatter\"}],\"scatter3d\":[{\"line\":{\"colorbar\":{\"outlinewidth\":0,\"ticks\":\"\"}},\"marker\":{\"colorbar\":{\"outlinewidth\":0,\"ticks\":\"\"}},\"type\":\"scatter3d\"}],\"scattercarpet\":[{\"marker\":{\"colorbar\":{\"outlinewidth\":0,\"ticks\":\"\"}},\"type\":\"scattercarpet\"}],\"scattergeo\":[{\"marker\":{\"colorbar\":{\"outlinewidth\":0,\"ticks\":\"\"}},\"type\":\"scattergeo\"}],\"scattergl\":[{\"marker\":{\"colorbar\":{\"outlinewidth\":0,\"ticks\":\"\"}},\"type\":\"scattergl\"}],\"scattermapbox\":[{\"marker\":{\"colorbar\":{\"outlinewidth\":0,\"ticks\":\"\"}},\"type\":\"scattermapbox\"}],\"scatterpolar\":[{\"marker\":{\"colorbar\":{\"outlinewidth\":0,\"ticks\":\"\"}},\"type\":\"scatterpolar\"}],\"scatterpolargl\":[{\"marker\":{\"colorbar\":{\"outlinewidth\":0,\"ticks\":\"\"}},\"type\":\"scatterpolargl\"}],\"scatterternary\":[{\"marker\":{\"colorbar\":{\"outlinewidth\":0,\"ticks\":\"\"}},\"type\":\"scatterternary\"}],\"surface\":[{\"colorbar\":{\"outlinewidth\":0,\"ticks\":\"\"},\"colorscale\":[[0.0,\"#0d0887\"],[0.1111111111111111,\"#46039f\"],[0.2222222222222222,\"#7201a8\"],[0.3333333333333333,\"#9c179e\"],[0.4444444444444444,\"#bd3786\"],[0.5555555555555556,\"#d8576b\"],[0.6666666666666666,\"#ed7953\"],[0.7777777777777778,\"#fb9f3a\"],[0.8888888888888888,\"#fdca26\"],[1.0,\"#f0f921\"]],\"type\":\"surface\"}],\"table\":[{\"cells\":{\"fill\":{\"color\":\"#EBF0F8\"},\"line\":{\"color\":\"white\"}},\"header\":{\"fill\":{\"color\":\"#C8D4E3\"},\"line\":{\"color\":\"white\"}},\"type\":\"table\"}]},\"layout\":{\"annotationdefaults\":{\"arrowcolor\":\"#2a3f5f\",\"arrowhead\":0,\"arrowwidth\":1},\"autotypenumbers\":\"strict\",\"coloraxis\":{\"colorbar\":{\"outlinewidth\":0,\"ticks\":\"\"}},\"colorscale\":{\"diverging\":[[0,\"#8e0152\"],[0.1,\"#c51b7d\"],[0.2,\"#de77ae\"],[0.3,\"#f1b6da\"],[0.4,\"#fde0ef\"],[0.5,\"#f7f7f7\"],[0.6,\"#e6f5d0\"],[0.7,\"#b8e186\"],[0.8,\"#7fbc41\"],[0.9,\"#4d9221\"],[1,\"#276419\"]],\"sequential\":[[0.0,\"#0d0887\"],[0.1111111111111111,\"#46039f\"],[0.2222222222222222,\"#7201a8\"],[0.3333333333333333,\"#9c179e\"],[0.4444444444444444,\"#bd3786\"],[0.5555555555555556,\"#d8576b\"],[0.6666666666666666,\"#ed7953\"],[0.7777777777777778,\"#fb9f3a\"],[0.8888888888888888,\"#fdca26\"],[1.0,\"#f0f921\"]],\"sequentialminus\":[[0.0,\"#0d0887\"],[0.1111111111111111,\"#46039f\"],[0.2222222222222222,\"#7201a8\"],[0.3333333333333333,\"#9c179e\"],[0.4444444444444444,\"#bd3786\"],[0.5555555555555556,\"#d8576b\"],[0.6666666666666666,\"#ed7953\"],[0.7777777777777778,\"#fb9f3a\"],[0.8888888888888888,\"#fdca26\"],[1.0,\"#f0f921\"]]},\"colorway\":[\"#636efa\",\"#EF553B\",\"#00cc96\",\"#ab63fa\",\"#FFA15A\",\"#19d3f3\",\"#FF6692\",\"#B6E880\",\"#FF97FF\",\"#FECB52\"],\"font\":{\"color\":\"#2a3f5f\"},\"geo\":{\"bgcolor\":\"white\",\"lakecolor\":\"white\",\"landcolor\":\"#E5ECF6\",\"showlakes\":true,\"showland\":true,\"subunitcolor\":\"white\"},\"hoverlabel\":{\"align\":\"left\"},\"hovermode\":\"closest\",\"mapbox\":{\"style\":\"light\"},\"paper_bgcolor\":\"white\",\"plot_bgcolor\":\"#E5ECF6\",\"polar\":{\"angularaxis\":{\"gridcolor\":\"white\",\"linecolor\":\"white\",\"ticks\":\"\"},\"bgcolor\":\"#E5ECF6\",\"radialaxis\":{\"gridcolor\":\"white\",\"linecolor\":\"white\",\"ticks\":\"\"}},\"scene\":{\"xaxis\":{\"backgroundcolor\":\"#E5ECF6\",\"gridcolor\":\"white\",\"gridwidth\":2,\"linecolor\":\"white\",\"showbackground\":true,\"ticks\":\"\",\"zerolinecolor\":\"white\"},\"yaxis\":{\"backgroundcolor\":\"#E5ECF6\",\"gridcolor\":\"white\",\"gridwidth\":2,\"linecolor\":\"white\",\"showbackground\":true,\"ticks\":\"\",\"zerolinecolor\":\"white\"},\"zaxis\":{\"backgroundcolor\":\"#E5ECF6\",\"gridcolor\":\"white\",\"gridwidth\":2,\"linecolor\":\"white\",\"showbackground\":true,\"ticks\":\"\",\"zerolinecolor\":\"white\"}},\"shapedefaults\":{\"line\":{\"color\":\"#2a3f5f\"}},\"ternary\":{\"aaxis\":{\"gridcolor\":\"white\",\"linecolor\":\"white\",\"ticks\":\"\"},\"baxis\":{\"gridcolor\":\"white\",\"linecolor\":\"white\",\"ticks\":\"\"},\"bgcolor\":\"#E5ECF6\",\"caxis\":{\"gridcolor\":\"white\",\"linecolor\":\"white\",\"ticks\":\"\"}},\"title\":{\"x\":0.05},\"xaxis\":{\"automargin\":true,\"gridcolor\":\"white\",\"linecolor\":\"white\",\"ticks\":\"\",\"title\":{\"standoff\":15},\"zerolinecolor\":\"white\",\"zerolinewidth\":2},\"yaxis\":{\"automargin\":true,\"gridcolor\":\"white\",\"linecolor\":\"white\",\"ticks\":\"\",\"title\":{\"standoff\":15},\"zerolinecolor\":\"white\",\"zerolinewidth\":2}}}},                        {\"responsive\": true}                    ).then(function(){\n",
              "                            \n",
              "var gd = document.getElementById('d1ae8b29-cb9d-45e1-b70c-4ae50089ebdf');\n",
              "var x = new MutationObserver(function (mutations, observer) {{\n",
              "        var display = window.getComputedStyle(gd).display;\n",
              "        if (!display || display === 'none') {{\n",
              "            console.log([gd, 'removed!']);\n",
              "            Plotly.purge(gd);\n",
              "            observer.disconnect();\n",
              "        }}\n",
              "}});\n",
              "\n",
              "// Listen for the removal of the full notebook cells\n",
              "var notebookContainer = gd.closest('#notebook-container');\n",
              "if (notebookContainer) {{\n",
              "    x.observe(notebookContainer, {childList: true});\n",
              "}}\n",
              "\n",
              "// Listen for the clearing of the current output cell\n",
              "var outputEl = gd.closest('.output');\n",
              "if (outputEl) {{\n",
              "    x.observe(outputEl, {childList: true});\n",
              "}}\n",
              "\n",
              "                        })                };                            </script>        </div>\n",
              "</body>\n",
              "</html>"
            ]
          },
          "metadata": {}
        }
      ]
    },
    {
      "cell_type": "markdown",
      "source": [
        "Let's see what was the best value (gives best validation accuracy) of learning rate which Optuna found. Is it different from the default value of the Keras SGD optimiser?"
      ],
      "metadata": {
        "id": "Rm24BJ9Ayw0o"
      }
    },
    {
      "cell_type": "code",
      "source": [
        "print(\"Number of finished trials: {}\".format(len(study.trials)))\n",
        "print(\"Best trial:\")\n",
        "trial = study.best_trial\n",
        "print(\"  Value: {}\".format(trial.value))\n",
        "print(\"  Params: \")\n",
        "for key, value in trial.params.items():\n",
        "  print(\"    {}: {}\".format(key, value))"
      ],
      "metadata": {
        "colab": {
          "base_uri": "https://localhost:8080/"
        },
        "id": "uCH6u7tffTgy",
        "outputId": "14b57f3b-f889-46c6-d99b-263fdea6c78e"
      },
      "execution_count": 34,
      "outputs": [
        {
          "output_type": "stream",
          "name": "stdout",
          "text": [
            "Number of finished trials: 10\n",
            "Best trial:\n",
            "  Value: 0.9279999732971191\n",
            "  Params: \n",
            "    lr: 0.09852514553006246\n"
          ]
        }
      ]
    },
    {
      "cell_type": "code",
      "source": [
        "print(study.best_params['lr'])"
      ],
      "metadata": {
        "colab": {
          "base_uri": "https://localhost:8080/"
        },
        "id": "MbBeE9CJolNI",
        "outputId": "f59c2ebc-4c73-4254-cfc6-4e5c8484031f"
      },
      "execution_count": 46,
      "outputs": [
        {
          "output_type": "stream",
          "name": "stdout",
          "text": [
            "0.09852514553006246\n"
          ]
        }
      ]
    },
    {
      "cell_type": "markdown",
      "source": [
        "Finally, let's use use this new learning rate, train our model and evaluate perfomance on the test set. Did we get improved result?"
      ],
      "metadata": {
        "id": "ZkZi36qay_GA"
      }
    },
    {
      "cell_type": "code",
      "source": [
        "model = build_basic_model()\n",
        "# We compile our model with a sampled learning rate.\n",
        "lr=study.best_params['lr']\n",
        "#lr=0.01\n",
        "model.compile(tf.keras.optimizers.SGD(lr=lr), loss='categorical_crossentropy', metrics=['accuracy'])\n",
        "history = model.fit(x_train, y_train, batch_size=128, epochs=5, verbose=True, validation_split=.1)\n",
        "\n",
        "\n",
        "loss, accuracy  = model.evaluate(x_test, y_test, verbose=False)\n",
        "print(f'Test loss: {loss:.3}')\n",
        "print(f'Test accuracy: {accuracy:.3}')"
      ],
      "metadata": {
        "colab": {
          "base_uri": "https://localhost:8080/"
        },
        "id": "SOFQvKuAk18L",
        "outputId": "87b60f60-b737-44a9-ce40-9449359363aa"
      },
      "execution_count": 66,
      "outputs": [
        {
          "output_type": "stream",
          "name": "stdout",
          "text": [
            "Epoch 1/5\n",
            "422/422 [==============================] - 2s 4ms/step - loss: 1.2246 - accuracy: 0.7400 - val_loss: 0.6122 - val_accuracy: 0.8872\n",
            "Epoch 2/5\n",
            "422/422 [==============================] - 1s 3ms/step - loss: 0.5482 - accuracy: 0.8716 - val_loss: 0.3915 - val_accuracy: 0.9102\n",
            "Epoch 3/5\n",
            "422/422 [==============================] - 1s 3ms/step - loss: 0.4225 - accuracy: 0.8906 - val_loss: 0.3230 - val_accuracy: 0.9187\n",
            "Epoch 4/5\n",
            "422/422 [==============================] - 1s 3ms/step - loss: 0.3702 - accuracy: 0.9003 - val_loss: 0.2880 - val_accuracy: 0.9238\n",
            "Epoch 5/5\n",
            "422/422 [==============================] - 1s 3ms/step - loss: 0.3386 - accuracy: 0.9066 - val_loss: 0.2670 - val_accuracy: 0.9268\n",
            "Test loss: 0.31\n",
            "Test accuracy: 0.915\n"
          ]
        }
      ]
    },
    {
      "cell_type": "markdown",
      "source": [
        "Try to explore with tuning other hyperparameters in the model and see what happens. To tune categorial parameters, such as optmiser name, please see here: [categorical](https://optuna.readthedocs.io/en/stable/reference/generated/optuna.trial.Trial.html#optuna.trial.Trial.suggest_categorical)"
      ],
      "metadata": {
        "id": "5sYWaUyezORe"
      }
    }
  ]
}